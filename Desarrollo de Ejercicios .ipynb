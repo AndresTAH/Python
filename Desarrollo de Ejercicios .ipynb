{
 "cells": [
  {
   "cell_type": "markdown",
   "metadata": {},
   "source": [
    "# Desarrollo de Ejercicios"
   ]
  },
  {
   "cell_type": "markdown",
   "metadata": {},
   "source": [
    "<p><b> 1.1 </b> Ejercicio <b>filter_vowels(s)</b> </p>"
   ]
  },
  {
   "cell_type": "code",
   "execution_count": 1,
   "metadata": {
    "scrolled": true
   },
   "outputs": [],
   "source": [
    "def filter_vowels(s):   \n",
    "    L=[str(s)]\n",
    "    x=len(L[0])\n",
    "    v=['a','e','i','o','u']\n",
    "\n",
    "    for i in range(x):\n",
    "        if not L[0][i] in v:\n",
    "            print(L[0][i],end='')\n",
    "    print(\"\\n\")\n"
   ]
  },
  {
   "cell_type": "code",
   "execution_count": 2,
   "metadata": {
    "scrolled": true
   },
   "outputs": [
    {
     "name": "stdout",
     "output_type": "stream",
     "text": [
      " ● filter_vowels(manzana)\n",
      "mnzn\n",
      "\n",
      " ● filter_vowels(bebida)\n",
      "bbd\n",
      "\n",
      " ● filter_vowels(consumo)\n",
      "cnsm\n",
      "\n"
     ]
    }
   ],
   "source": [
    "print(\" ● filter_vowels(manzana)\")\n",
    "filter_vowels(\"manzana\")\n",
    "print(\" ● filter_vowels(bebida)\")\n",
    "filter_vowels(\"bebida\")\n",
    "print(\" ● filter_vowels(consumo)\")\n",
    "filter_vowels(\"consumo\")"
   ]
  },
  {
   "cell_type": "markdown",
   "metadata": {},
   "source": [
    "<p><b> 1.2 </b> Ejercicio <b>filter_consonant(s)</b> </p>"
   ]
  },
  {
   "cell_type": "code",
   "execution_count": 3,
   "metadata": {},
   "outputs": [],
   "source": [
    "def filter_consonant(s):   \n",
    "    L=[str(s)]\n",
    "    x=len(L[0])\n",
    "    v=['a','e','i','o','u']\n",
    "\n",
    "    for i in range(x):\n",
    "        if  L[0][i] in v:\n",
    "            print(L[0][i],end='')\n",
    "            \n",
    "    print(\"\\n\")"
   ]
  },
  {
   "cell_type": "code",
   "execution_count": 4,
   "metadata": {
    "scrolled": true
   },
   "outputs": [
    {
     "name": "stdout",
     "output_type": "stream",
     "text": [
      " ● filter_consonant(manzana)\n",
      "aaa\n",
      "\n",
      " ● filter_consonant(bebida)\n",
      "eia\n",
      "\n",
      " ● filter_consonant(consumo)\n",
      "ouo\n",
      "\n"
     ]
    }
   ],
   "source": [
    "print(\" ● filter_consonant(manzana)\")\n",
    "filter_consonant(\"manzana\")\n",
    "print(\" ● filter_consonant(bebida)\")\n",
    "filter_consonant(\"bebida\")\n",
    "print(\" ● filter_consonant(consumo)\")\n",
    "filter_consonant(\"consumo\")"
   ]
  },
  {
   "cell_type": "markdown",
   "metadata": {},
   "source": [
    "<p><b>1.2 </b> Ejercicio <b>even(start,n)</b> </p>"
   ]
  },
  {
   "cell_type": "code",
   "execution_count": 5,
   "metadata": {},
   "outputs": [],
   "source": [
    "def even(start,n):\n",
    "    if start>0 and start<100 and n>0 and n<100: \n",
    "        i=max(start,2)\n",
    "        count=1\n",
    "        while count<=n:\n",
    "                print(max(i,2),end=' ')\n",
    "                count=count+1\n",
    "                i=i+2\n",
    "        count=0\n",
    "    else:\n",
    "        print(\"Por favor, ingrese un rango permitido\")\n",
    "    print(\"\\n\")\n",
    "    "
   ]
  },
  {
   "cell_type": "code",
   "execution_count": 6,
   "metadata": {
    "scrolled": true
   },
   "outputs": [
    {
     "name": "stdout",
     "output_type": "stream",
     "text": [
      " ● Funcion(-1,10)\n",
      "Por favor, ingrese un rango permitido\n",
      "\n",
      "\n",
      " ● Funcion(4,8)\n",
      "4 6 8 10 12 14 16 18 \n",
      "\n",
      " ● Funcion(6,4)\n",
      "6 8 10 12 \n",
      "\n",
      " ● Funcion(8,8)\n",
      "8 10 12 14 16 18 20 22 \n",
      "\n",
      " ● Funcion(8,105)\n",
      "Por favor, ingrese un rango permitido\n",
      "\n",
      "\n"
     ]
    }
   ],
   "source": [
    "print(\" ● Funcion(-1,10)\")\n",
    "even(-1,10)\n",
    "print(\" ● Funcion(4,8)\")\n",
    "even(4,8)\n",
    "print(\" ● Funcion(6,4)\")\n",
    "even(6,4)\n",
    "print(\" ● Funcion(8,8)\")\n",
    "even(8,8)\n",
    "print(\" ● Funcion(8,105)\")\n",
    "even(8,105)"
   ]
  }
 ],
 "metadata": {
  "kernelspec": {
   "display_name": "Python 3",
   "language": "python",
   "name": "python3"
  },
  "language_info": {
   "codemirror_mode": {
    "name": "ipython",
    "version": 3
   },
   "file_extension": ".py",
   "mimetype": "text/x-python",
   "name": "python",
   "nbconvert_exporter": "python",
   "pygments_lexer": "ipython3",
   "version": "3.8.3"
  }
 },
 "nbformat": 4,
 "nbformat_minor": 4
}
